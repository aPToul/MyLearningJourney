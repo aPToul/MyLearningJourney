{
 "cells": [
  {
   "cell_type": "code",
   "execution_count": 1,
   "metadata": {
    "collapsed": false
   },
   "outputs": [],
   "source": [
    "# Directory with raw data in csv\n",
    "workingDir = '/scratch/paperscraper/csv/'\n",
    "\n",
    "# Read in 111,420 records into dataframe with low_memory=False since we're not constrained by RAM\n",
    "import pandas as pd\n",
    "import codecs\n",
    "papers_with_disciplines = pd.read_csv(workingDir + 'labeled_data.csv', low_memory=False, encoding='utf-8')\n",
    "papers_with_disciplines = papers_with_disciplines[['abstract', 'classes']]\n",
    "\n",
    "import unicodedata\n",
    "\n",
    "# Used to sanitize abstracts\n",
    "def sanitize_text(text):\n",
    "    # if none, return empty characer\n",
    "    if type(None) == type(text):\n",
    "        return ''    \n",
    "    # if not unicode, converting to string\n",
    "    elif unicode != type(text):\n",
    "        return str(text).lower()\n",
    "    # else unicode, encoding to ascii after normalizing\n",
    "    else:\n",
    "        # NOTE: unicode character with no ascii equivilent are removed!\n",
    "        return unicodedata.normalize('NFKD', text).encode('ascii','ignore').lower()\n",
    "\n",
    "# Sanitize the abstracts\n",
    "papers_with_disciplines['abstract'] = map(sanitize_text, papers_with_disciplines['abstract'])"
   ]
  },
  {
   "cell_type": "code",
   "execution_count": 2,
   "metadata": {
    "collapsed": false
   },
   "outputs": [],
   "source": [
    "# Make a binary indicator column for each class\n",
    "import functools\n",
    "\n",
    "# Split the class column and check for a specific class number\n",
    "def isDiscipline(number, disciplines):\n",
    "    if (str(number) in str(disciplines).split(',')):\n",
    "        return 1\n",
    "    else:\n",
    "        return 0\n",
    "\n",
    "classes = []\n",
    "# Create a column for each class by performing a mapped search on the classes column\n",
    "for i in range(0,6):\n",
    "    papers_with_disciplines['class_' + str(i)] = map(functools.partial(isDiscipline, i), papers_with_disciplines['classes'])\n",
    "    # Append class name to a list for future iteration\n",
    "    classes.append('class_' + str(i))"
   ]
  },
  {
   "cell_type": "code",
   "execution_count": 3,
   "metadata": {
    "collapsed": false
   },
   "outputs": [],
   "source": [
    "import numpy as np\n",
    "\n",
    "# Shuffle the data\n",
    "shuffled = papers_with_disciplines.reindex(np.random.permutation(papers_with_disciplines.index))\n",
    "\n",
    "# Randomly select 70% of data for training (hold-out 30%)\n",
    "fraction_select = 0.70\n",
    "\n",
    "# Assign 1s and 0s randomly\n",
    "import random\n",
    "def randomAssign(disciplines):\n",
    "    if (random.random() <= fraction_select):\n",
    "        return 1\n",
    "    else:\n",
    "        return 0\n",
    "    \n",
    "# Label random part of the data as training or not \n",
    "papers_with_disciplines['training'] = map(randomAssign, papers_with_disciplines['classes'])\n",
    "\n",
    "# Split into a training dataframe and a testing dataframe\n",
    "training_data = papers_with_disciplines[papers_with_disciplines['training'] == 1]\n",
    "test_data = papers_with_disciplines[papers_with_disciplines['training'] == 0]"
   ]
  },
  {
   "cell_type": "code",
   "execution_count": 8,
   "metadata": {
    "collapsed": false
   },
   "outputs": [],
   "source": [
    "# Customize the count vectorizer by specifying a custom stopword vocabulary and stemmer\n",
    "\n",
    "import nltk\n",
    "import re\n",
    "\n",
    "# Stopwords to remove\n",
    "from nltk.corpus import stopwords\n",
    "myStop = stopwords.words('english')\n",
    "\n",
    "# French stop words for removal as well\n",
    "myStop.extend(stopwords.words('french'))\n",
    "\n",
    "# Remove duplicates across stop words\n",
    "myStop = list(set(myStop))\n",
    "\n",
    "# Stemmer did not perform better\n",
    "# from nltk.stem.snowball import SnowballStemmer\n",
    "# stemmer = SnowballStemmer('english')\n",
    "\n",
    "# Custom tokenizer\n",
    "class tokenize_custom(object):\n",
    "    def __call__(self, doc):\n",
    "        # First tokenize by sentence then by word\n",
    "        tokens = [word for sent in nltk.sent_tokenize(doc) for word in nltk.word_tokenize(sent)]\n",
    "        \n",
    "        filtered_tokens = []\n",
    "        for token in tokens:\n",
    "            # Filter out any tokens not containing at least 2 letters (ex: numeric tokens, raw punctuation)\n",
    "            if word not in myStop and len(re.sub('[^a-zA-Z]', '', word)) > 2:\n",
    "                filtered_tokens.append(token)\n",
    "                \n",
    "        return filtered_tokens"
   ]
  },
  {
   "cell_type": "code",
   "execution_count": 5,
   "metadata": {
    "collapsed": false
   },
   "outputs": [],
   "source": [
    "# Import SciKitlearn libraries for the pipeline\n",
    "from sklearn.grid_search import GridSearchCV\n",
    "from sklearn.pipeline import Pipeline\n",
    "from sklearn.feature_extraction.text import TfidfVectorizer\n",
    "from sklearn.linear_model import SGDClassifier\n",
    "\n",
    "from pprint import pprint\n",
    "import datetime\n",
    "from time import time\n",
    "import logging\n",
    "\n",
    "# Display progress logs on stdout\n",
    "logging.basicConfig(level=logging.INFO,\n",
    "                    format='%(asctime)s %(levelname)s %(message)s')"
   ]
  },
  {
   "cell_type": "code",
   "execution_count": 6,
   "metadata": {
    "collapsed": false
   },
   "outputs": [],
   "source": [
    "from sklearn.metrics import matthews_corrcoef, make_scorer, f1_score, fbeta_score, classification_report, confusion_matrix\n",
    "\n",
    "# ROC curve acts as a good visual indicator of performance\n",
    "from sklearn.metrics import roc_curve, auc\n",
    "\n",
    "import matplotlib.pyplot as plt\n",
    "# Display figures inline\n",
    "%matplotlib inline\n",
    "\n",
    "# Create a tiny font for figure labelling\n",
    "from matplotlib.font_manager import FontProperties\n",
    "fontP = FontProperties()\n",
    "fontP.set_size('small')\n",
    "\n",
    "# Define a custom function which reports the performance of a model\n",
    "def performance_metrics(probas, prediction, actual):\n",
    "    ### Plot the ROC curve ###\n",
    "\n",
    "    # Actual y outcomes vs. probabilities predicted by the final model\n",
    "    fpr, tpr, thresholds = roc_curve(actual, probas[:, 1])\n",
    "    \n",
    "    # Create the ROC_AUC object using auc\n",
    "    roc_auc = auc(fpr, tpr)\n",
    "    plt.plot(fpr, tpr, lw=1, label='(%0.2f)' % (roc_auc))\n",
    "\n",
    "    # A single guess curve needs plotting (the curve TP=FP or y = x)\n",
    "    plt.plot([0, 1], [0, 1], '--', color = (0.6, 0.6, 0.6), label = 'Guess Curve')\n",
    "\n",
    "    # Set reasonable limits to x and y, based on the fact that FP, TP are [0, 1]\n",
    "    plt.xlim([-0.05, 1.05])\n",
    "    plt.ylim([-0.05, 1.05])\n",
    "    plt.xlabel('False Positive Rate')\n",
    "    plt.ylabel('True Positive Rate')\n",
    "    \n",
    "    # Label the chart\n",
    "    plt.title('Receiver operating characteristic for class '+classex)\n",
    "    \n",
    "    # Make a nice legend that is out of the plot\n",
    "    plt.legend(loc='center left', bbox_to_anchor = (1, 0.5), prop = fontP)\n",
    "              \n",
    "    plt.show()\n",
    "    ### Done ROC curve ###\n",
    "    \n",
    "    ### Confusion matrix ###\n",
    "    cm = confusion_matrix(np.asarray(actual.tolist()), prediction)\n",
    "    print (cm)\n",
    "    print ('')\n",
    "    \n",
    "    ### MCC ###\n",
    "    print 'MCC: ' + str(matthews_corrcoef(np.asarray(actual.tolist()), prediction))\n",
    "    print ('')\n",
    "    \n",
    "    ### Report ###    \n",
    "    print 'Report:'\n",
    "    print classification_report(np.asarray(actual.tolist()), prediction)"
   ]
  },
  {
   "cell_type": "code",
   "execution_count": 9,
   "metadata": {
    "collapsed": false
   },
   "outputs": [
    {
     "name": "stdout",
     "output_type": "stream",
     "text": [
      "4 number of combinations to be tested\n",
      "8 cores will be used, with a max of 32 at a time\n"
     ]
    }
   ],
   "source": [
    "# Number of folds for grid cross-validation; 10 was recommended across several resources\n",
    "folds = 10\n",
    "\n",
    "# Make an MCC scorer for models\n",
    "scorer = make_scorer(matthews_corrcoef)\n",
    "\n",
    "# Define a model estimation pipeline\n",
    "pipeline = Pipeline([\n",
    "    ('vect', TfidfVectorizer(tokenizer = tokenize_custom(), \n",
    "                                             stop_words = myStop, \n",
    "                                             min_df = 5,\n",
    "                                             max_df = 0.4,\n",
    "                                             ngram_range = (1,3)\n",
    "                                             \n",
    "        )\n",
    "    ),\n",
    "        \n",
    "    ('clf', SGDClassifier(n_iter = 20, \n",
    "                                            penalty = 'elasticnet',\n",
    "                                            loss = 'modified_huber'\n",
    "         )\n",
    "    )\n",
    "])\n",
    "\n",
    "# Hyperparameters to test; note that these grow combinatorially and will consume very large amounts of memory \n",
    "parameters = {\n",
    "    'vect__sublinear_tf': (True, False),\n",
    "    'clf__class_weight': ('balanced', None)\n",
    "}\n",
    "\n",
    "# Maximum cores in environment\n",
    "import multiprocessing\n",
    "max_usage = 0.5\n",
    "\n",
    "max_cores = int(max_usage*multiprocessing.cpu_count())\n",
    "\n",
    "# Figure out the worst case number of cores used by figuring out the number of parameter combinations\n",
    "combinations = 1\n",
    "for parameter_option_list in parameters.itervalues():\n",
    "    combinations = combinations*len(parameter_option_list)\n",
    "print (str(combinations) + \" number of combinations to be tested\")\n",
    "    \n",
    "# Number of cores to use\n",
    "cores = int(max_cores/combinations)\n",
    "print(str(cores) +\" cores will be used, with a max of \" + str(max_cores) + \" at a time\")"
   ]
  },
  {
   "cell_type": "code",
   "execution_count": null,
   "metadata": {
    "collapsed": false
   },
   "outputs": [
    {
     "name": "stdout",
     "output_type": "stream",
     "text": [
      "Performing grid search on class_0 --- 01:37:51.426565\n"
     ]
    }
   ],
   "source": [
    "# List of the best estimators for each class\n",
    "best_models = []\n",
    "\n",
    "if __name__ == '__main__':\n",
    "    for classex in classes:   \n",
    "                \n",
    "        # Find the best parameters for both the feature extraction and the classifier\n",
    "        grid_search = GridSearchCV(pipeline, parameters, scoring = scorer, cv = folds,\n",
    "                                  n_jobs = cores, pre_dispatch = max_cores, verbose = 0)\n",
    "\n",
    "        print('Performing grid search on '+classex + ' --- ' + str(datetime.datetime.now().time()))               \n",
    "        t0 = time()\n",
    "        # Estimate classifier\n",
    "        grid_search.fit(training_data['abstract'], training_data[classex])\n",
    "        print('done in %0.3fs' % (time() - t0))\n",
    "\n",
    "        print('Best model score: %0.3f' % grid_search.best_score_)        \n",
    "\n",
    "        best_estimator = grid_search.best_estimator_\n",
    "        best_models.append(best_estimator)\n",
    "        \n",
    "        if len(parameters) > 0:\n",
    "            best_parameters = best_estimator.get_params()        \n",
    "            print('Best parameters set:')\n",
    "            for param_name in sorted(parameters.keys()):\n",
    "                print('\\t%s: %r' % (param_name, best_parameters[param_name])) \n",
    "            print ('')\n",
    "        \n",
    "        print('--------------------------------------------------------------------------')\n",
    "        print('Training performance')\n",
    "        # Probabilities, predictions, true values on training data\n",
    "        performance_metrics(best_estimator.predict_proba(training_data['abstract']), best_estimator.predict(training_data['abstract']), training_data[classex])\n",
    "        print ('')\n",
    "\n",
    "        print('--------------------------------------------------------------------------')\n",
    "        print('Hold-out performance')\n",
    "        # Probabilities, predictions, true values on hold-out data\n",
    "        performance_metrics(best_estimator.predict_proba(test_data['abstract']), best_estimator.predict(test_data['abstract']), test_data[classex])\n",
    "        print ('')\n",
    "\n",
    "        print('--------------------------------------------------------------------------')"
   ]
  },
  {
   "cell_type": "code",
   "execution_count": null,
   "metadata": {
    "collapsed": false
   },
   "outputs": [],
   "source": []
  },
  {
   "cell_type": "code",
   "execution_count": null,
   "metadata": {
    "collapsed": false
   },
   "outputs": [],
   "source": []
  },
  {
   "cell_type": "code",
   "execution_count": null,
   "metadata": {
    "collapsed": false
   },
   "outputs": [],
   "source": []
  },
  {
   "cell_type": "code",
   "execution_count": null,
   "metadata": {
    "collapsed": false
   },
   "outputs": [],
   "source": []
  },
  {
   "cell_type": "code",
   "execution_count": null,
   "metadata": {
    "collapsed": false
   },
   "outputs": [],
   "source": []
  },
  {
   "cell_type": "code",
   "execution_count": null,
   "metadata": {
    "collapsed": false
   },
   "outputs": [],
   "source": []
  },
  {
   "cell_type": "code",
   "execution_count": null,
   "metadata": {
    "collapsed": false
   },
   "outputs": [],
   "source": []
  },
  {
   "cell_type": "code",
   "execution_count": null,
   "metadata": {
    "collapsed": false
   },
   "outputs": [],
   "source": []
  },
  {
   "cell_type": "code",
   "execution_count": null,
   "metadata": {
    "collapsed": false
   },
   "outputs": [],
   "source": []
  },
  {
   "cell_type": "code",
   "execution_count": null,
   "metadata": {
    "collapsed": false
   },
   "outputs": [],
   "source": []
  },
  {
   "cell_type": "code",
   "execution_count": null,
   "metadata": {
    "collapsed": false
   },
   "outputs": [],
   "source": []
  },
  {
   "cell_type": "code",
   "execution_count": null,
   "metadata": {
    "collapsed": false
   },
   "outputs": [],
   "source": []
  },
  {
   "cell_type": "code",
   "execution_count": null,
   "metadata": {
    "collapsed": false
   },
   "outputs": [],
   "source": []
  },
  {
   "cell_type": "code",
   "execution_count": null,
   "metadata": {
    "collapsed": false
   },
   "outputs": [],
   "source": []
  },
  {
   "cell_type": "code",
   "execution_count": null,
   "metadata": {
    "collapsed": false
   },
   "outputs": [],
   "source": []
  },
  {
   "cell_type": "code",
   "execution_count": null,
   "metadata": {
    "collapsed": false
   },
   "outputs": [],
   "source": []
  },
  {
   "cell_type": "code",
   "execution_count": null,
   "metadata": {
    "collapsed": false
   },
   "outputs": [],
   "source": []
  },
  {
   "cell_type": "code",
   "execution_count": null,
   "metadata": {
    "collapsed": false
   },
   "outputs": [],
   "source": []
  },
  {
   "cell_type": "code",
   "execution_count": null,
   "metadata": {
    "collapsed": false
   },
   "outputs": [],
   "source": []
  },
  {
   "cell_type": "code",
   "execution_count": null,
   "metadata": {
    "collapsed": false
   },
   "outputs": [],
   "source": []
  },
  {
   "cell_type": "code",
   "execution_count": null,
   "metadata": {
    "collapsed": false
   },
   "outputs": [],
   "source": []
  },
  {
   "cell_type": "code",
   "execution_count": null,
   "metadata": {
    "collapsed": false
   },
   "outputs": [],
   "source": []
  },
  {
   "cell_type": "code",
   "execution_count": null,
   "metadata": {
    "collapsed": false
   },
   "outputs": [],
   "source": []
  },
  {
   "cell_type": "code",
   "execution_count": null,
   "metadata": {
    "collapsed": false
   },
   "outputs": [],
   "source": []
  },
  {
   "cell_type": "code",
   "execution_count": null,
   "metadata": {
    "collapsed": false
   },
   "outputs": [],
   "source": []
  },
  {
   "cell_type": "code",
   "execution_count": null,
   "metadata": {
    "collapsed": false
   },
   "outputs": [],
   "source": []
  },
  {
   "cell_type": "code",
   "execution_count": null,
   "metadata": {
    "collapsed": false
   },
   "outputs": [],
   "source": []
  },
  {
   "cell_type": "code",
   "execution_count": null,
   "metadata": {
    "collapsed": false
   },
   "outputs": [],
   "source": []
  },
  {
   "cell_type": "code",
   "execution_count": null,
   "metadata": {
    "collapsed": false
   },
   "outputs": [],
   "source": []
  },
  {
   "cell_type": "code",
   "execution_count": null,
   "metadata": {
    "collapsed": false
   },
   "outputs": [],
   "source": []
  },
  {
   "cell_type": "code",
   "execution_count": null,
   "metadata": {
    "collapsed": false
   },
   "outputs": [],
   "source": []
  },
  {
   "cell_type": "code",
   "execution_count": null,
   "metadata": {
    "collapsed": false
   },
   "outputs": [],
   "source": []
  },
  {
   "cell_type": "code",
   "execution_count": null,
   "metadata": {
    "collapsed": false
   },
   "outputs": [],
   "source": []
  },
  {
   "cell_type": "code",
   "execution_count": null,
   "metadata": {
    "collapsed": true
   },
   "outputs": [],
   "source": []
  },
  {
   "cell_type": "code",
   "execution_count": null,
   "metadata": {
    "collapsed": false
   },
   "outputs": [],
   "source": []
  },
  {
   "cell_type": "code",
   "execution_count": null,
   "metadata": {
    "collapsed": false
   },
   "outputs": [],
   "source": []
  },
  {
   "cell_type": "code",
   "execution_count": null,
   "metadata": {
    "collapsed": false
   },
   "outputs": [],
   "source": []
  },
  {
   "cell_type": "code",
   "execution_count": null,
   "metadata": {
    "collapsed": false
   },
   "outputs": [],
   "source": []
  },
  {
   "cell_type": "code",
   "execution_count": null,
   "metadata": {
    "collapsed": true
   },
   "outputs": [],
   "source": []
  },
  {
   "cell_type": "code",
   "execution_count": null,
   "metadata": {
    "collapsed": false
   },
   "outputs": [],
   "source": []
  },
  {
   "cell_type": "code",
   "execution_count": null,
   "metadata": {
    "collapsed": false
   },
   "outputs": [],
   "source": []
  },
  {
   "cell_type": "code",
   "execution_count": null,
   "metadata": {
    "collapsed": false
   },
   "outputs": [],
   "source": []
  },
  {
   "cell_type": "code",
   "execution_count": null,
   "metadata": {
    "collapsed": false
   },
   "outputs": [],
   "source": []
  },
  {
   "cell_type": "code",
   "execution_count": null,
   "metadata": {
    "collapsed": false
   },
   "outputs": [],
   "source": []
  },
  {
   "cell_type": "code",
   "execution_count": null,
   "metadata": {
    "collapsed": false
   },
   "outputs": [],
   "source": []
  },
  {
   "cell_type": "code",
   "execution_count": null,
   "metadata": {
    "collapsed": false
   },
   "outputs": [],
   "source": []
  }
 ],
 "metadata": {
  "kernelspec": {
   "display_name": "Python 2",
   "language": "python",
   "name": "python2"
  },
  "language_info": {
   "codemirror_mode": {
    "name": "ipython",
    "version": 2
   },
   "file_extension": ".py",
   "mimetype": "text/x-python",
   "name": "python",
   "nbconvert_exporter": "python",
   "pygments_lexer": "ipython2",
   "version": "2.7.9"
  }
 },
 "nbformat": 4,
 "nbformat_minor": 0
}
